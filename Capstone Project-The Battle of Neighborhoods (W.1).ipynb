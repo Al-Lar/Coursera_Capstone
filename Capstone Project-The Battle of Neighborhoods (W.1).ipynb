{
    "cells": [
        {
            "cell_type": "markdown",
            "metadata": {
                "collapsed": true
            },
            "source": "# Capstone Project - The Battle of the Neighborhoods (Week 1)\n### Applied Data Science Capstone by IBM/Coursera/Identify the perfect place in the city of Toronto to open a cafe.\n"
        },
        {
            "cell_type": "markdown",
            "metadata": {},
            "source": "## Table of contents\n* [Introduction: Business Problem](#introduction)\n* [Data](#data)\n* [Methodology](#methodology)"
        },
        {
            "cell_type": "markdown",
            "metadata": {},
            "source": "## Introduction: Business Problem <a name=\"introduction\"></a>"
        },
        {
            "cell_type": "markdown",
            "metadata": {},
            "source": "According to Wikipedia, **Toronto is the largest city in Canada**, the administrative center of the province of Ontario. The population is 2,731,571 (2016).\nToronto is part of the\" golden horseshoe \" \u2014 a densely populated region around the western part of Lake Ontario with a population of about 7 million people. **Approximately one-third of the total Canadian population lives within a 500 km radius of Toronto**. About a sixth of all Canadian jobs are located within the city limits.\nThe city of Toronto is also known as the\" economic engine \" of Canada, is considered one of the leading megacities in the world and has a great weight both in the region and at the state and international level. In The Economist's annual Global Liveability Ranking, which measures the overall quality of life, **Toronto ranks fourth in the world among 140 participating cities**.\nBased on the above, Toronto is a promising city for starting a business. But where is the best place to open your own cafe? I intend to create a solution for aspiring small business entrepreneurs to set up their small business in an urban area.\n\nIdIdentify an ideal business location for a cafe startup by considering areas/localities/boroughs that:\n\n - High frequency of office and colleges in the neighborhood\n - Low frequency of cafes in the localities/boroughs"
        },
        {
            "cell_type": "markdown",
            "metadata": {},
            "source": "## Data <a name=\"data\"></a>"
        },
        {
            "cell_type": "markdown",
            "metadata": {},
            "source": "This data science capstone project focuses on the process of using location data obtained from data providers such as the Foursquare API, Wikipedia.org"
        },
        {
            "cell_type": "markdown",
            "metadata": {},
            "source": "## Methodology<a name=\"methodology\"></a>\n\nUsing a K-means cluster, similar locations with minimal distance should be grouped into clusters. This is the simplest form of unsupervised machine learning algorithm, and it helps to group similar data points. \nData for this project will be extracted, processed, and analyzed by integrating information about the City of Toronto area extracted from the Internet and venue-related information obtained through the Foursquare API.Data extraction from the Internet is done using python web scraper libraries, such as Beautiful Soup. After extracting the html page, the information is converted to a data frame using the python pandas library. Using the pandas library, the data will be cleaned and processed to prepare the final data frame for analysis. To display my data on the map, I will use the Folium library. In addition, to create clusters of similar areas of interest, I will use the k-means clustering method. For this analytical method, I will use the sklearn python library to create a clustering model for my project.\n- Environment Preparation\n- Data Extraction using Web Scraping Library \n- Transforming the HTML page into a Data Frame\n- Data Processing\n- Cleaning the Data\nIn this step, the data frame will be cleaned with respect to missing values, error data values and shall be transformed into a more workable framework for the analytical and machine learning logarithms.\nMerging Geographical Coordinates through another data file \n- Data Exploration\n- Rendering the Map and Adding the Boroughs\n Using the map rendering libraries, we will now view the boroughs and neighborhoods on the map of Toronto City using the geopy library and add markers to indicate their location \n- Exploring Neighbourhoods using Foursqaure API \n- Machine Learning Algorithm: Clustering and Segmentation of Neighborhoods with Similar Venues\n"
        }
    ],
    "metadata": {
        "kernelspec": {
            "display_name": "Python 3.7",
            "language": "python",
            "name": "python3"
        },
        "language_info": {
            "codemirror_mode": {
                "name": "ipython",
                "version": 3
            },
            "file_extension": ".py",
            "mimetype": "text/x-python",
            "name": "python",
            "nbconvert_exporter": "python",
            "pygments_lexer": "ipython3",
            "version": "3.7.10"
        }
    },
    "nbformat": 4,
    "nbformat_minor": 1
}